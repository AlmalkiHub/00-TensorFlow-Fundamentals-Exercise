{
  "nbformat": 4,
  "nbformat_minor": 0,
  "metadata": {
    "colab": {
      "name": "00. TensorFlow Fundamentals Exercises.ipynb",
      "provenance": [],
      "collapsed_sections": [],
      "authorship_tag": "ABX9TyOXolEkwnP+dVOXJulfalSn"
    },
    "kernelspec": {
      "name": "python3",
      "display_name": "Python 3"
    },
    "language_info": {
      "name": "python"
    }
  },
  "cells": [
    {
      "cell_type": "markdown",
      "metadata": {
        "id": "QlpS_rWozv50"
      },
      "source": [
        "# `Ali Almalki`\n",
        "\n"
      ]
    },
    {
      "cell_type": "markdown",
      "metadata": {
        "id": "3_i0G9XAz6hW"
      },
      "source": [
        "## 🛠 00. TensorFlow Fundamentals Exercises\n",
        "- Create a vector, scalar, matrix and tensor with values of your choosing using tf.constant().\n",
        "- Find the shape, rank and size of the tensors you created in 1.\n",
        "- Create two tensors containing random values between 0 and 1 with shape [5, 300].\n",
        "- Multiply the two tensors you created in 3 using matrix multiplication.\n",
        "- Multiply the two tensors you created in 3 using dot product.\n",
        "- Create a tensor with random values between 0 and 1 with shape [224, 224, 3].\n",
        "- Find the min and max values of the tensor you created in 6 along the first axis.\n",
        "- Create a tensor with random values of shape [1, 224, 224, 3] then squeeze it to change the shape to [224, 224, 3].\n",
        "- Create a tensor with shape [10] using your own choice of values, then find the index which has the maximum value.\n",
        "One-hot encode the tensor you created in 9."
      ]
    },
    {
      "cell_type": "markdown",
      "metadata": {
        "id": "e5o_EunC_pWB"
      },
      "source": [
        "#### Import Required Libraries"
      ]
    },
    {
      "cell_type": "code",
      "metadata": {
        "id": "APGMkjxf1kXS"
      },
      "source": [
        "# Import TensorFlow Library\n",
        "import tensorflow as tf\n",
        "# Import NumPy Library\n",
        "import numpy as np"
      ],
      "execution_count": null,
      "outputs": []
    },
    {
      "cell_type": "code",
      "metadata": {
        "colab": {
          "base_uri": "https://localhost:8080/",
          "height": 35
        },
        "id": "P-Z16-Kt1n8u",
        "outputId": "20a0ebf7-f922-46a6-865f-e03583fa8ca2"
      },
      "source": [
        "# Check TensorFlow version\n",
        "tf.__version__"
      ],
      "execution_count": null,
      "outputs": [
        {
          "output_type": "execute_result",
          "data": {
            "application/vnd.google.colaboratory.intrinsic+json": {
              "type": "string"
            },
            "text/plain": [
              "'2.7.0'"
            ]
          },
          "metadata": {},
          "execution_count": 88
        }
      ]
    },
    {
      "cell_type": "code",
      "metadata": {
        "colab": {
          "base_uri": "https://localhost:8080/"
        },
        "id": "ZPLdfyFu1oBv",
        "outputId": "059be03f-aa2b-4e01-b6a5-48db588f2c82"
      },
      "source": [
        "# Check physical devices\n",
        "tf.config.list_physical_devices()"
      ],
      "execution_count": null,
      "outputs": [
        {
          "output_type": "execute_result",
          "data": {
            "text/plain": [
              "[PhysicalDevice(name='/physical_device:CPU:0', device_type='CPU')]"
            ]
          },
          "metadata": {},
          "execution_count": 89
        }
      ]
    },
    {
      "cell_type": "markdown",
      "metadata": {
        "id": "I_dqeJHl2A9s"
      },
      "source": [
        "#### 1) Create a vector, scalar, matrix and tensor with values of your choosing using tf.constant()."
      ]
    },
    {
      "cell_type": "code",
      "metadata": {
        "colab": {
          "base_uri": "https://localhost:8080/"
        },
        "id": "jvPoaRxj2htW",
        "outputId": "14842aa4-f0d3-4afb-d66a-892ddd6a8c33"
      },
      "source": [
        "scalar = tf.constant(4, 9)\n",
        "scalar"
      ],
      "execution_count": null,
      "outputs": [
        {
          "output_type": "execute_result",
          "data": {
            "text/plain": [
              "<tf.Tensor: shape=(), dtype=int64, numpy=4>"
            ]
          },
          "metadata": {},
          "execution_count": 90
        }
      ]
    },
    {
      "cell_type": "code",
      "metadata": {
        "colab": {
          "base_uri": "https://localhost:8080/"
        },
        "id": "D0SVqmft2oue",
        "outputId": "407d441e-5e74-40db-9193-723d781b59fd"
      },
      "source": [
        "scalar.shape, scalar.ndim"
      ],
      "execution_count": null,
      "outputs": [
        {
          "output_type": "execute_result",
          "data": {
            "text/plain": [
              "(TensorShape([]), 0)"
            ]
          },
          "metadata": {},
          "execution_count": 91
        }
      ]
    },
    {
      "cell_type": "code",
      "metadata": {
        "colab": {
          "base_uri": "https://localhost:8080/"
        },
        "id": "OohBTJJ41FJC",
        "outputId": "fbec6edd-2176-40aa-9825-6c53cbc13e0f"
      },
      "source": [
        "vector = tf.constant([10, 7])\n",
        "vector"
      ],
      "execution_count": null,
      "outputs": [
        {
          "output_type": "execute_result",
          "data": {
            "text/plain": [
              "<tf.Tensor: shape=(2,), dtype=int32, numpy=array([10,  7], dtype=int32)>"
            ]
          },
          "metadata": {},
          "execution_count": 92
        }
      ]
    },
    {
      "cell_type": "code",
      "metadata": {
        "colab": {
          "base_uri": "https://localhost:8080/"
        },
        "id": "aBZJ_BxK1FMd",
        "outputId": "f2baac9f-4046-4845-98cc-713cb1bcef1f"
      },
      "source": [
        "vector.shape, vector.ndim"
      ],
      "execution_count": null,
      "outputs": [
        {
          "output_type": "execute_result",
          "data": {
            "text/plain": [
              "(TensorShape([2]), 1)"
            ]
          },
          "metadata": {},
          "execution_count": 93
        }
      ]
    },
    {
      "cell_type": "code",
      "metadata": {
        "colab": {
          "base_uri": "https://localhost:8080/"
        },
        "id": "K3192sUY1FPz",
        "outputId": "9d669c93-6796-47e6-c719-a015eacae3c6"
      },
      "source": [
        "matrix = tf.constant([[10, 7],\n",
        "                      [42, 89]])\n",
        "matrix"
      ],
      "execution_count": null,
      "outputs": [
        {
          "output_type": "execute_result",
          "data": {
            "text/plain": [
              "<tf.Tensor: shape=(2, 2), dtype=int32, numpy=\n",
              "array([[10,  7],\n",
              "       [42, 89]], dtype=int32)>"
            ]
          },
          "metadata": {},
          "execution_count": 94
        }
      ]
    },
    {
      "cell_type": "code",
      "metadata": {
        "colab": {
          "base_uri": "https://localhost:8080/"
        },
        "id": "iUJdzgIL1FTF",
        "outputId": "528e2424-7e2f-499d-c564-9a6643a23c11"
      },
      "source": [
        "t = tf.constant([[[1, 2, 3,],\n",
        "                       [4, 5, 6]],\n",
        "                      [[7, 21, 11],\n",
        "                       [45, 11, 12]],\n",
        "                      [[13, 56, 39],\n",
        "                       [12, 44, 87]]])\n",
        "t"
      ],
      "execution_count": null,
      "outputs": [
        {
          "output_type": "execute_result",
          "data": {
            "text/plain": [
              "<tf.Tensor: shape=(3, 2, 3), dtype=int32, numpy=\n",
              "array([[[ 1,  2,  3],\n",
              "        [ 4,  5,  6]],\n",
              "\n",
              "       [[ 7, 21, 11],\n",
              "        [45, 11, 12]],\n",
              "\n",
              "       [[13, 56, 39],\n",
              "        [12, 44, 87]]], dtype=int32)>"
            ]
          },
          "metadata": {},
          "execution_count": 95
        }
      ]
    },
    {
      "cell_type": "code",
      "metadata": {
        "colab": {
          "base_uri": "https://localhost:8080/"
        },
        "id": "42D5Xabc1FWP",
        "outputId": "06b586c3-ca25-4006-adee-11b0a64a6b68"
      },
      "source": [
        "t.shape, t.ndim"
      ],
      "execution_count": null,
      "outputs": [
        {
          "output_type": "execute_result",
          "data": {
            "text/plain": [
              "(TensorShape([3, 2, 3]), 3)"
            ]
          },
          "metadata": {},
          "execution_count": 96
        }
      ]
    },
    {
      "cell_type": "markdown",
      "metadata": {
        "id": "aod6FsGO1FZh"
      },
      "source": [
        "2) Find the shape, rank and size of the tensors you created in 1."
      ]
    },
    {
      "cell_type": "code",
      "metadata": {
        "colab": {
          "base_uri": "https://localhost:8080/"
        },
        "id": "BrJwiF5p4JSn",
        "outputId": "7be19348-4fd6-4baf-af94-4901a251e7bd"
      },
      "source": [
        "print('The shape of the scalar:', scalar.shape)\n",
        "print('The rank of the scalar:', np.array(tf.rank(scalar)))\n",
        "print('The size of the scalar:', np.array(tf.size(scalar)))\n"
      ],
      "execution_count": null,
      "outputs": [
        {
          "output_type": "stream",
          "name": "stdout",
          "text": [
            "The shape of the scalar: ()\n",
            "The rank of the scalar: 0\n",
            "The size of the scalar: 1\n"
          ]
        }
      ]
    },
    {
      "cell_type": "code",
      "metadata": {
        "colab": {
          "base_uri": "https://localhost:8080/"
        },
        "id": "99_2uTOs4PmI",
        "outputId": "3e607cf1-5885-49f2-fcc9-a15ee5bb7121"
      },
      "source": [
        "print('The shape of the vector:', vector.shape)\n",
        "print('The rank of the vector:', np.array(tf.rank(vector)))\n",
        "print('The size of the vector:', np.array(tf.size(vector)))\n"
      ],
      "execution_count": null,
      "outputs": [
        {
          "output_type": "stream",
          "name": "stdout",
          "text": [
            "The shape of the vector: (2,)\n",
            "The rank of the vector: 1\n",
            "The size of the vector: 2\n"
          ]
        }
      ]
    },
    {
      "cell_type": "code",
      "metadata": {
        "colab": {
          "base_uri": "https://localhost:8080/"
        },
        "id": "qVcAMKJ15KJ6",
        "outputId": "575f7eaf-c4cc-44ef-ad44-2aa3abdb1e97"
      },
      "source": [
        "print('The shape of the matrix:', matrix.shape)\n",
        "print('The rank of the matrix:', np.array(tf.rank(matrix)))\n",
        "print('The size of the matrix:', np.array(tf.size(matrix)))"
      ],
      "execution_count": null,
      "outputs": [
        {
          "output_type": "stream",
          "name": "stdout",
          "text": [
            "The shape of the matrix: (2, 2)\n",
            "The rank of the matrix: 2\n",
            "The size of the matrix: 4\n"
          ]
        }
      ]
    },
    {
      "cell_type": "code",
      "metadata": {
        "colab": {
          "base_uri": "https://localhost:8080/"
        },
        "id": "FKZ667E45KQg",
        "outputId": "22223323-6f5f-42f1-ac45-ad4c07767037"
      },
      "source": [
        "print('The shape of the Tensor:', t.shape)\n",
        "print('The rank of the Tensor:', np.array(tf.rank(t)))\n",
        "print('The size of the Tensor:', np.array(tf.size(t)))"
      ],
      "execution_count": null,
      "outputs": [
        {
          "output_type": "stream",
          "name": "stdout",
          "text": [
            "The shape of the Tensor: (3, 2, 3)\n",
            "The rank of the Tensor: 3\n",
            "The size of the Tensor: 18\n"
          ]
        }
      ]
    },
    {
      "cell_type": "markdown",
      "metadata": {
        "id": "0jHSgLbp5bkP"
      },
      "source": [
        "3) Create two tensors containing random values between 0 and 1 with shape [5, 300]."
      ]
    },
    {
      "cell_type": "code",
      "metadata": {
        "colab": {
          "base_uri": "https://localhost:8080/"
        },
        "id": "iup6X5sV5idY",
        "outputId": "dfee4097-746d-4db7-d810-c418ae1adfa1"
      },
      "source": [
        "# Set global seed \n",
        "tf.random.set_seed(42)\n",
        "\n",
        "t1 = tf.random.uniform(shape=([5, 300]))\n",
        "t1\n",
        "\n",
        "t2 = tf.random.uniform(shape=([5, 300]))\n",
        "t2"
      ],
      "execution_count": null,
      "outputs": [
        {
          "output_type": "execute_result",
          "data": {
            "text/plain": [
              "<tf.Tensor: shape=(5, 300), dtype=float32, numpy=\n",
              "array([[0.68789124, 0.48447883, 0.9309944 , ..., 0.6920762 , 0.33180213,\n",
              "        0.9212563 ],\n",
              "       [0.27369928, 0.10631859, 0.6218617 , ..., 0.4382149 , 0.30427706,\n",
              "        0.51477313],\n",
              "       [0.00920248, 0.37280262, 0.8177401 , ..., 0.56786287, 0.49201214,\n",
              "        0.9892651 ],\n",
              "       [0.88608265, 0.08672249, 0.12160683, ..., 0.91770685, 0.72545695,\n",
              "        0.8280058 ],\n",
              "       [0.36690474, 0.9200133 , 0.9646884 , ..., 0.69012   , 0.7137332 ,\n",
              "        0.2584542 ]], dtype=float32)>"
            ]
          },
          "metadata": {},
          "execution_count": 101
        }
      ]
    },
    {
      "cell_type": "code",
      "metadata": {
        "colab": {
          "base_uri": "https://localhost:8080/"
        },
        "id": "tNseFkX1B8Op",
        "outputId": "eb811a84-2056-462d-9acc-630bdbc93595"
      },
      "source": [
        "# Check tensors shape\n",
        "t1.shape, t2.shape"
      ],
      "execution_count": null,
      "outputs": [
        {
          "output_type": "execute_result",
          "data": {
            "text/plain": [
              "(TensorShape([5, 300]), TensorShape([5, 300]))"
            ]
          },
          "metadata": {},
          "execution_count": 102
        }
      ]
    },
    {
      "cell_type": "markdown",
      "metadata": {
        "id": "iQeG9sIP6N0D"
      },
      "source": [
        "4) Multiply the two tensors you created in 3 using matrix multiplication."
      ]
    },
    {
      "cell_type": "code",
      "metadata": {
        "colab": {
          "base_uri": "https://localhost:8080/"
        },
        "id": "_cu1n2mf6T0i",
        "outputId": "1ca8b0b6-0eb1-4b9b-aa6f-fff82d63902c"
      },
      "source": [
        "tf.linalg.matmul(tf.transpose(t1), t2)"
      ],
      "execution_count": null,
      "outputs": [
        {
          "output_type": "execute_result",
          "data": {
            "text/plain": [
              "<tf.Tensor: shape=(300, 300), dtype=float32, numpy=\n",
              "array([[1.317161  , 0.61993605, 1.2612379 , ..., 1.5290778 , 1.0735596 ,\n",
              "        1.6227092 ],\n",
              "       [1.0170685 , 0.42642498, 0.8181824 , ..., 1.1469344 , 0.8212255 ,\n",
              "        1.1739546 ],\n",
              "       [0.45034647, 0.8037954 , 1.4656199 , ..., 1.105671  , 0.88152766,\n",
              "        1.481925  ],\n",
              "       ...,\n",
              "       [1.3204696 , 1.1634867 , 1.7423928 , ..., 1.8386563 , 1.5207756 ,\n",
              "        1.5979093 ],\n",
              "       [0.73207504, 0.90400356, 1.8493464 , ..., 1.3821819 , 0.98218614,\n",
              "        1.924531  ],\n",
              "       [1.0814031 , 0.5316744 , 0.7174167 , ..., 1.2942287 , 1.0804075 ,\n",
              "        1.0476992 ]], dtype=float32)>"
            ]
          },
          "metadata": {},
          "execution_count": 103
        }
      ]
    },
    {
      "cell_type": "code",
      "metadata": {
        "colab": {
          "base_uri": "https://localhost:8080/"
        },
        "id": "2rlpdffz7lWw",
        "outputId": "8ca49ab0-21ff-4c9a-dfd6-9f7eaeec4c35"
      },
      "source": [
        "tf.transpose(t1).shape, t2.shape"
      ],
      "execution_count": null,
      "outputs": [
        {
          "output_type": "execute_result",
          "data": {
            "text/plain": [
              "(TensorShape([300, 5]), TensorShape([5, 300]))"
            ]
          },
          "metadata": {},
          "execution_count": 104
        }
      ]
    },
    {
      "cell_type": "markdown",
      "metadata": {
        "id": "T89Es4cM6T7x"
      },
      "source": [
        "5) Multiply the two tensors you created in 3 using dot product."
      ]
    },
    {
      "cell_type": "code",
      "metadata": {
        "colab": {
          "base_uri": "https://localhost:8080/"
        },
        "id": "2-ETeRb67PPv",
        "outputId": "374409e5-2442-4ecd-b03a-96091038e23e"
      },
      "source": [
        "tf.tensordot(tf.transpose(t1), t2, axes=1)"
      ],
      "execution_count": null,
      "outputs": [
        {
          "output_type": "execute_result",
          "data": {
            "text/plain": [
              "<tf.Tensor: shape=(300, 300), dtype=float32, numpy=\n",
              "array([[1.317161  , 0.61993605, 1.2612379 , ..., 1.5290778 , 1.0735596 ,\n",
              "        1.6227092 ],\n",
              "       [1.0170685 , 0.42642498, 0.8181824 , ..., 1.1469344 , 0.8212255 ,\n",
              "        1.1739546 ],\n",
              "       [0.45034647, 0.8037954 , 1.4656199 , ..., 1.105671  , 0.88152766,\n",
              "        1.481925  ],\n",
              "       ...,\n",
              "       [1.3204696 , 1.1634867 , 1.7423928 , ..., 1.8386563 , 1.5207756 ,\n",
              "        1.5979093 ],\n",
              "       [0.73207504, 0.90400356, 1.8493464 , ..., 1.3821819 , 0.98218614,\n",
              "        1.924531  ],\n",
              "       [1.0814031 , 0.5316744 , 0.7174167 , ..., 1.2942287 , 1.0804075 ,\n",
              "        1.0476992 ]], dtype=float32)>"
            ]
          },
          "metadata": {},
          "execution_count": 105
        }
      ]
    },
    {
      "cell_type": "markdown",
      "metadata": {
        "id": "1PyPxaHS7PTN"
      },
      "source": [
        "6) Create a tensor with random values between 0 and 1 with shape [224, 224, 3]."
      ]
    },
    {
      "cell_type": "code",
      "metadata": {
        "colab": {
          "base_uri": "https://localhost:8080/"
        },
        "id": "4Ukfu28T7PW6",
        "outputId": "467f22f1-3c22-423f-c681-b625ddacb76c"
      },
      "source": [
        "tensor = tf.random.uniform(minval=0, maxval=1, shape=([224, 224, 3]))\n",
        "print(tensor.shape)\n",
        "print(tensor.ndim)\n",
        "print(tf.size(tensor))\n",
        "print(tensor)"
      ],
      "execution_count": null,
      "outputs": [
        {
          "output_type": "stream",
          "name": "stdout",
          "text": [
            "(224, 224, 3)\n",
            "3\n",
            "tf.Tensor(150528, shape=(), dtype=int32)\n",
            "tf.Tensor(\n",
            "[[[0.7413678  0.62854624 0.01738465]\n",
            "  [0.3431449  0.51063764 0.3777541 ]\n",
            "  [0.07321596 0.02137029 0.2871771 ]\n",
            "  ...\n",
            "  [0.98953485 0.45382905 0.2006687 ]\n",
            "  [0.6295223  0.4937899  0.01816809]\n",
            "  [0.95386636 0.11542463 0.85691285]]\n",
            "\n",
            " [[0.78435016 0.7826872  0.87936425]\n",
            "  [0.24906898 0.3207239  0.10955775]\n",
            "  [0.543224   0.7151396  0.40334642]\n",
            "  ...\n",
            "  [0.2445668  0.01746976 0.9036933 ]\n",
            "  [0.02975535 0.592268   0.9877522 ]\n",
            "  [0.36701274 0.33112562 0.5638567 ]]\n",
            "\n",
            " [[0.15829337 0.7288823  0.3366307 ]\n",
            "  [0.70792687 0.16910625 0.9429966 ]\n",
            "  [0.10120225 0.5919596  0.8687303 ]\n",
            "  ...\n",
            "  [0.28134012 0.10011208 0.37038183]\n",
            "  [0.77874243 0.05421627 0.4664607 ]\n",
            "  [0.2549187  0.7968637  0.83405185]]\n",
            "\n",
            " ...\n",
            "\n",
            " [[0.32922816 0.06343532 0.23936498]\n",
            "  [0.42692196 0.3615111  0.901929  ]\n",
            "  [0.8320831  0.21068895 0.08272386]\n",
            "  ...\n",
            "  [0.65110314 0.40780962 0.25967455]\n",
            "  [0.9018173  0.8245677  0.16757596]\n",
            "  [0.41854453 0.19092035 0.2523303 ]]\n",
            "\n",
            " [[0.7064005  0.222404   0.82219553]\n",
            "  [0.8235872  0.76544905 0.80999327]\n",
            "  [0.1100682  0.00520217 0.6127168 ]\n",
            "  ...\n",
            "  [0.98068535 0.8958733  0.17706168]\n",
            "  [0.4252876  0.02087164 0.496238  ]\n",
            "  [0.6599953  0.58505726 0.7089884 ]]\n",
            "\n",
            " [[0.90045786 0.45803344 0.9050728 ]\n",
            "  [0.92233    0.38456154 0.30329156]\n",
            "  [0.03238845 0.18773472 0.9096625 ]\n",
            "  ...\n",
            "  [0.4445815  0.04578841 0.21090853]\n",
            "  [0.25966525 0.24412918 0.76123405]\n",
            "  [0.9643831  0.32687283 0.4828869 ]]], shape=(224, 224, 3), dtype=float32)\n"
          ]
        }
      ]
    },
    {
      "cell_type": "markdown",
      "metadata": {
        "id": "Zo3hwkYs7PaZ"
      },
      "source": [
        "7) Find the min and max values of the tensor you created in 6 along the first axis."
      ]
    },
    {
      "cell_type": "code",
      "metadata": {
        "colab": {
          "base_uri": "https://localhost:8080/"
        },
        "id": "10Go5yPt7Pd1",
        "outputId": "3b917aa5-a369-4456-ae7e-0e4ce184be45"
      },
      "source": [
        "# Find the minimum value along the first axis\n",
        "np.array(tf.reduce_min(tensor))"
      ],
      "execution_count": null,
      "outputs": [
        {
          "output_type": "execute_result",
          "data": {
            "text/plain": [
              "array(2.3841858e-07, dtype=float32)"
            ]
          },
          "metadata": {},
          "execution_count": 107
        }
      ]
    },
    {
      "cell_type": "code",
      "metadata": {
        "colab": {
          "base_uri": "https://localhost:8080/"
        },
        "id": "jqj7iYfh85B8",
        "outputId": "0197467f-c2ba-4873-8b53-7b0a3d07ed5a"
      },
      "source": [
        "# Find the maximum value along the first axis\n",
        "np.array(tf.reduce_max(tensor))"
      ],
      "execution_count": null,
      "outputs": [
        {
          "output_type": "execute_result",
          "data": {
            "text/plain": [
              "array(0.9999918, dtype=float32)"
            ]
          },
          "metadata": {},
          "execution_count": 108
        }
      ]
    },
    {
      "cell_type": "markdown",
      "metadata": {
        "id": "ERmRAr1x9TGm"
      },
      "source": [
        "8) Create a tensor with random values of shape [1, 224, 224, 3] then squeeze it to change the shape to [224, 224, 3]."
      ]
    },
    {
      "cell_type": "code",
      "metadata": {
        "colab": {
          "base_uri": "https://localhost:8080/"
        },
        "id": "79U8QtYb9TJ0",
        "outputId": "dcda31b0-d191-4968-f576-818722e42094"
      },
      "source": [
        "tesnor = tf.random.uniform(shape=([1, 224, 224, 3]))\n",
        "tesnor"
      ],
      "execution_count": null,
      "outputs": [
        {
          "output_type": "execute_result",
          "data": {
            "text/plain": [
              "<tf.Tensor: shape=(1, 224, 224, 3), dtype=float32, numpy=\n",
              "array([[[[7.4023080e-01, 3.3938193e-01, 5.6925058e-01],\n",
              "         [4.4811392e-01, 2.9285502e-01, 4.2600560e-01],\n",
              "         [6.2890387e-01, 6.9106102e-01, 3.0925727e-01],\n",
              "         ...,\n",
              "         [9.1063976e-04, 6.9863999e-01, 1.7180574e-01],\n",
              "         [6.7542684e-01, 8.3492923e-01, 3.9038682e-01],\n",
              "         [2.3664141e-01, 6.2239432e-01, 1.0117912e-01]],\n",
              "\n",
              "        [[9.7064960e-01, 5.4594779e-01, 7.6819682e-01],\n",
              "         [2.6893330e-01, 2.6959443e-01, 2.8982997e-01],\n",
              "         [2.9215467e-01, 1.7108858e-01, 6.5597153e-01],\n",
              "         ...,\n",
              "         [9.5621395e-01, 5.4591870e-01, 5.3843534e-01],\n",
              "         [9.8861516e-01, 1.5786767e-01, 6.1375093e-01],\n",
              "         [7.2668612e-01, 6.1637163e-03, 1.6534305e-01]],\n",
              "\n",
              "        [[6.4095867e-01, 7.6697862e-01, 3.0138540e-01],\n",
              "         [1.5474892e-01, 1.7183411e-01, 2.7192724e-01],\n",
              "         [3.1211805e-01, 6.1451709e-01, 4.3001354e-01],\n",
              "         ...,\n",
              "         [8.4168065e-01, 5.0247252e-01, 2.8834987e-01],\n",
              "         [3.3173549e-01, 4.5103800e-01, 6.7354202e-02],\n",
              "         [1.0118127e-01, 4.2389810e-01, 6.8379509e-01]],\n",
              "\n",
              "        ...,\n",
              "\n",
              "        [[1.8096626e-01, 8.5838544e-01, 3.4178734e-02],\n",
              "         [5.9386420e-01, 3.8502932e-01, 8.7150073e-01],\n",
              "         [1.0209656e-01, 3.7833798e-01, 1.1331165e-01],\n",
              "         ...,\n",
              "         [8.5692227e-01, 4.2525017e-01, 3.6130440e-01],\n",
              "         [5.2397156e-01, 1.3922489e-01, 2.2725856e-01],\n",
              "         [9.1044855e-01, 9.1889143e-02, 1.5898192e-01]],\n",
              "\n",
              "        [[6.5610647e-02, 1.5236783e-01, 7.9822493e-01],\n",
              "         [3.0753601e-01, 4.3507314e-01, 7.9526460e-01],\n",
              "         [8.3535135e-01, 3.8671303e-01, 4.4709980e-01],\n",
              "         ...,\n",
              "         [6.8944788e-01, 6.5163302e-01, 9.1498744e-01],\n",
              "         [3.2730651e-01, 4.3430209e-01, 8.7547708e-01],\n",
              "         [1.8118513e-01, 6.4113998e-01, 4.3338275e-01]],\n",
              "\n",
              "        [[4.1520441e-01, 1.7824161e-01, 9.2302203e-02],\n",
              "         [4.3809581e-01, 4.6262145e-01, 3.8647270e-01],\n",
              "         [4.6021819e-02, 7.6314330e-02, 3.2944894e-01],\n",
              "         ...,\n",
              "         [3.7793708e-01, 8.7314355e-01, 5.2063870e-01],\n",
              "         [7.3511279e-01, 7.9594767e-01, 8.2211494e-02],\n",
              "         [9.7483528e-01, 8.2736588e-01, 7.6870322e-01]]]], dtype=float32)>"
            ]
          },
          "metadata": {},
          "execution_count": 109
        }
      ]
    },
    {
      "cell_type": "code",
      "metadata": {
        "colab": {
          "base_uri": "https://localhost:8080/"
        },
        "id": "GotG1fAb9TM4",
        "outputId": "cc8a1adf-bb5f-46ad-b660-600901630939"
      },
      "source": [
        "# Squeeze the  tesnor\n",
        "tf.squeeze(tensor)"
      ],
      "execution_count": null,
      "outputs": [
        {
          "output_type": "execute_result",
          "data": {
            "text/plain": [
              "<tf.Tensor: shape=(224, 224, 3), dtype=float32, numpy=\n",
              "array([[[0.7413678 , 0.62854624, 0.01738465],\n",
              "        [0.3431449 , 0.51063764, 0.3777541 ],\n",
              "        [0.07321596, 0.02137029, 0.2871771 ],\n",
              "        ...,\n",
              "        [0.98953485, 0.45382905, 0.2006687 ],\n",
              "        [0.6295223 , 0.4937899 , 0.01816809],\n",
              "        [0.95386636, 0.11542463, 0.85691285]],\n",
              "\n",
              "       [[0.78435016, 0.7826872 , 0.87936425],\n",
              "        [0.24906898, 0.3207239 , 0.10955775],\n",
              "        [0.543224  , 0.7151396 , 0.40334642],\n",
              "        ...,\n",
              "        [0.2445668 , 0.01746976, 0.9036933 ],\n",
              "        [0.02975535, 0.592268  , 0.9877522 ],\n",
              "        [0.36701274, 0.33112562, 0.5638567 ]],\n",
              "\n",
              "       [[0.15829337, 0.7288823 , 0.3366307 ],\n",
              "        [0.70792687, 0.16910625, 0.9429966 ],\n",
              "        [0.10120225, 0.5919596 , 0.8687303 ],\n",
              "        ...,\n",
              "        [0.28134012, 0.10011208, 0.37038183],\n",
              "        [0.77874243, 0.05421627, 0.4664607 ],\n",
              "        [0.2549187 , 0.7968637 , 0.83405185]],\n",
              "\n",
              "       ...,\n",
              "\n",
              "       [[0.32922816, 0.06343532, 0.23936498],\n",
              "        [0.42692196, 0.3615111 , 0.901929  ],\n",
              "        [0.8320831 , 0.21068895, 0.08272386],\n",
              "        ...,\n",
              "        [0.65110314, 0.40780962, 0.25967455],\n",
              "        [0.9018173 , 0.8245677 , 0.16757596],\n",
              "        [0.41854453, 0.19092035, 0.2523303 ]],\n",
              "\n",
              "       [[0.7064005 , 0.222404  , 0.82219553],\n",
              "        [0.8235872 , 0.76544905, 0.80999327],\n",
              "        [0.1100682 , 0.00520217, 0.6127168 ],\n",
              "        ...,\n",
              "        [0.98068535, 0.8958733 , 0.17706168],\n",
              "        [0.4252876 , 0.02087164, 0.496238  ],\n",
              "        [0.6599953 , 0.58505726, 0.7089884 ]],\n",
              "\n",
              "       [[0.90045786, 0.45803344, 0.9050728 ],\n",
              "        [0.92233   , 0.38456154, 0.30329156],\n",
              "        [0.03238845, 0.18773472, 0.9096625 ],\n",
              "        ...,\n",
              "        [0.4445815 , 0.04578841, 0.21090853],\n",
              "        [0.25966525, 0.24412918, 0.76123405],\n",
              "        [0.9643831 , 0.32687283, 0.4828869 ]]], dtype=float32)>"
            ]
          },
          "metadata": {},
          "execution_count": 110
        }
      ]
    },
    {
      "cell_type": "markdown",
      "metadata": {
        "id": "4P0qV5XI9TPq"
      },
      "source": [
        "10) Create a tensor with shape [10] using your own choice of values, then find the index which has the maximum value."
      ]
    },
    {
      "cell_type": "code",
      "metadata": {
        "colab": {
          "base_uri": "https://localhost:8080/"
        },
        "id": "eYHSwcWx952q",
        "outputId": "cfcde563-8e0d-4923-eb81-9e0fd437f95a"
      },
      "source": [
        "t = tf.constant([4, 8, 2, 87, 42, 178, 29, 343, 27, 101])\n",
        "print('Tensor shape:', t.shape)"
      ],
      "execution_count": null,
      "outputs": [
        {
          "output_type": "stream",
          "name": "stdout",
          "text": [
            "Tensor shape: (10,)\n"
          ]
        }
      ]
    },
    {
      "cell_type": "code",
      "metadata": {
        "colab": {
          "base_uri": "https://localhost:8080/"
        },
        "id": "KHDKXZOt-SCm",
        "outputId": "4e76c119-cb73-4536-8069-d799c143044d"
      },
      "source": [
        "# Find the index which has the maximum value\n",
        "tf.math.argmax(t)"
      ],
      "execution_count": null,
      "outputs": [
        {
          "output_type": "execute_result",
          "data": {
            "text/plain": [
              "<tf.Tensor: shape=(), dtype=int64, numpy=7>"
            ]
          },
          "metadata": {},
          "execution_count": 112
        }
      ]
    },
    {
      "cell_type": "code",
      "metadata": {
        "colab": {
          "base_uri": "https://localhost:8080/"
        },
        "id": "CBGBMO-t-m51",
        "outputId": "86af72e0-389f-4ad0-8f31-012f449fb642"
      },
      "source": [
        "t[7]"
      ],
      "execution_count": null,
      "outputs": [
        {
          "output_type": "execute_result",
          "data": {
            "text/plain": [
              "<tf.Tensor: shape=(), dtype=int32, numpy=343>"
            ]
          },
          "metadata": {},
          "execution_count": 113
        }
      ]
    },
    {
      "cell_type": "code",
      "metadata": {
        "colab": {
          "base_uri": "https://localhost:8080/"
        },
        "id": "9GDQpOI2-f45",
        "outputId": "5e50950d-9ac5-4436-fcb4-259f9c6d4984"
      },
      "source": [
        "# Find the index which has the minimum value\n",
        "tf.argmin(t)"
      ],
      "execution_count": null,
      "outputs": [
        {
          "output_type": "execute_result",
          "data": {
            "text/plain": [
              "<tf.Tensor: shape=(), dtype=int64, numpy=2>"
            ]
          },
          "metadata": {},
          "execution_count": 114
        }
      ]
    },
    {
      "cell_type": "code",
      "metadata": {
        "colab": {
          "base_uri": "https://localhost:8080/"
        },
        "id": "jAfqFfNp-qq5",
        "outputId": "20954d6a-3656-4633-b7ce-0a280be6f132"
      },
      "source": [
        "t[2]"
      ],
      "execution_count": null,
      "outputs": [
        {
          "output_type": "execute_result",
          "data": {
            "text/plain": [
              "<tf.Tensor: shape=(), dtype=int32, numpy=2>"
            ]
          },
          "metadata": {},
          "execution_count": 115
        }
      ]
    },
    {
      "cell_type": "markdown",
      "metadata": {
        "id": "_5TDGebx-mDy"
      },
      "source": [
        "10) One-hot encode the tensor you created in 9."
      ]
    },
    {
      "cell_type": "code",
      "metadata": {
        "colab": {
          "base_uri": "https://localhost:8080/"
        },
        "id": "YnCPTeu7-xaV",
        "outputId": "823827f1-08fc-438b-89ca-936f47b1b9ff"
      },
      "source": [
        "tf.one_hot(t, depth=10)"
      ],
      "execution_count": null,
      "outputs": [
        {
          "output_type": "execute_result",
          "data": {
            "text/plain": [
              "<tf.Tensor: shape=(10, 10), dtype=float32, numpy=\n",
              "array([[0., 0., 0., 0., 1., 0., 0., 0., 0., 0.],\n",
              "       [0., 0., 0., 0., 0., 0., 0., 0., 1., 0.],\n",
              "       [0., 0., 1., 0., 0., 0., 0., 0., 0., 0.],\n",
              "       [0., 0., 0., 0., 0., 0., 0., 0., 0., 0.],\n",
              "       [0., 0., 0., 0., 0., 0., 0., 0., 0., 0.],\n",
              "       [0., 0., 0., 0., 0., 0., 0., 0., 0., 0.],\n",
              "       [0., 0., 0., 0., 0., 0., 0., 0., 0., 0.],\n",
              "       [0., 0., 0., 0., 0., 0., 0., 0., 0., 0.],\n",
              "       [0., 0., 0., 0., 0., 0., 0., 0., 0., 0.],\n",
              "       [0., 0., 0., 0., 0., 0., 0., 0., 0., 0.]], dtype=float32)>"
            ]
          },
          "metadata": {},
          "execution_count": 116
        }
      ]
    },
    {
      "cell_type": "markdown",
      "metadata": {
        "id": "xiYduDLY-xhb"
      },
      "source": [
        "### References: \n",
        "- TensorFlow Documentation: https://www.tensorflow.org/api_docs/python/tf/all_symbols\n",
        "- Exercise Source: https://github.com/mrdbourke/tensorflow-deep-learning#-00-tensorflow-fundamentals-exercises"
      ]
    }
  ]
}